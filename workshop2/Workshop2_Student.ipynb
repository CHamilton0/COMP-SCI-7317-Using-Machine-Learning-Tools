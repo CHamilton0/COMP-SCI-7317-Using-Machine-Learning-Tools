{
  "cells": [
    {
      "cell_type": "markdown",
      "metadata": {
        "id": "zN_q0nUinrDb"
      },
      "source": [
        "# Using Machine Learning Tools: Workshop 2\n",
        "\n",
        "**Chapter 1 – The Machine Learning landscape**\n",
        "\n",
        "This workshop is a cut down version of the code accompanying Chapter 1 of\n",
        "_Hands-on Machine Learning with Scikit-Learn, Keras and TensorFlow, 2e_ by Aurelien Geron. All code for the book is available at https://github.com/ageron/handson-ml2"
      ]
    },
    {
      "cell_type": "markdown",
      "metadata": {
        "id": "Ik2JwngGSuDM"
      },
      "source": [
        "#**Opening notebooks and plotting**\n",
        "\n",
        "First, check they have the required Python libraries.\n",
        "\n",
        "Although Python 2.x may work, it is deprecated so we strongly recommend you use Python 3 instead."
      ]
    },
    {
      "cell_type": "code",
      "execution_count": null,
      "metadata": {
        "colab": {
          "base_uri": "https://localhost:8080/"
        },
        "id": "nNifn0lMnrDc",
        "outputId": "60a3a031-582e-4382-d0e4-ed34519e8cde"
      },
      "outputs": [],
      "source": [
        "# Tutor demonstration"
      ]
    },
    {
      "cell_type": "markdown",
      "metadata": {
        "id": "sq-if6F_o2e4"
      },
      "source": [
        "If the Python version looks correct, try and run the below code and check if you can plot the figures."
      ]
    },
    {
      "cell_type": "code",
      "execution_count": null,
      "metadata": {
        "id": "WFNHEVwWnrDd"
      },
      "outputs": [],
      "source": [
        "# Tutor demonstration\n"
      ]
    },
    {
      "cell_type": "markdown",
      "metadata": {
        "id": "Zm6BUtOoTy1T"
      },
      "source": [
        "If the above runs and you can successfully generate the plot, try asking ChatGPT to write code for reading in the data, displaying a scatterplot, and two other types of visualisation of the data. What has it suggested? How is this different?"
      ]
    },
    {
      "cell_type": "markdown",
      "metadata": {
        "id": "t3SNG1D6U1D_"
      },
      "source": [
        "#**Run code to perform linear regression.**\n",
        "\n",
        " Run the below code and ask ChatGPT to create code to do the same thing. Create code based on last cell (model.predict) to plot the model output at a series of regularly spaced points, and check that you land on the red line from the previous cell.\n",
        "\n",
        " Then, retrain on a randomly chosen subset of the data (50% of it, but not just the first half - random selection) and show the results of the model fit on the full data and the model fit on the random subset on the same plot."
      ]
    },
    {
      "cell_type": "code",
      "execution_count": null,
      "metadata": {
        "id": "PTZKbzRtnrDe"
      },
      "outputs": [],
      "source": [
        "# Tutor demonstration"
      ]
    },
    {
      "cell_type": "markdown",
      "metadata": {
        "id": "VIrLnmm1V3e_"
      },
      "source": [
        "#**Exploring with different data**\n",
        "\n",
        "Spend this time running more versions with different data: different randomly selected percentages and/or adding an individual extra point that does not lie on the regression line (and controlling how far from the line it is). Repeat this many times with different random samples and/or added points (with different distance from the line).\n"
      ]
    },
    {
      "cell_type": "markdown",
      "metadata": {
        "id": "B76pafmLnrDe"
      },
      "source": [
        "## Extension: How you can check the error of a model?\n",
        "\n",
        "In a first gaze, we can check the error of a model visually, however we can use different `metrics` in order to check properly the performance of a model. For instance, we can use the the **Mean Square Error** for a regression problem. We will see more `metrics` in future workshops.\n",
        "\n",
        "$$MSE(y,\\hat{y}) = \\frac{1}{n_{samples}}\\sum_{i=0}^{n_{samples}-1} (y_i-\\hat{y}_i)^{2}$$\n"
      ]
    },
    {
      "cell_type": "code",
      "execution_count": null,
      "metadata": {
        "id": "U-4_xXpHnrDe"
      },
      "outputs": [],
      "source": [
        "# Tutor demonstration"
      ]
    },
    {
      "cell_type": "markdown",
      "metadata": {
        "id": "nuohofHsnrDf"
      },
      "source": [
        "## What now?\n",
        "\n",
        "* Looking for something more challenging, try to perform the **Activity 8: More Experiments** available in MyUni."
      ]
    },
    {
      "cell_type": "markdown",
      "metadata": {
        "id": "_6pzEkLInrDf"
      },
      "source": [
        "## Optional\n",
        "\n",
        "You can explore a much long version of this code in the next Jupyter Notebook available in Google Colab.\n",
        "\n",
        "<table align=\"left\">\n",
        "  <td>\n",
        "    <a target=\"_blank\" href=\"https://colab.research.google.com/github/ageron/handson-ml2/blob/master/01_the_machine_learning_landscape.ipynb\"><img src=\"https://www.tensorflow.org/images/colab_logo_32px.png\" />Run in Google Colab</a>\n",
        "  </td>\n",
        "</table>"
      ]
    }
  ],
  "metadata": {
    "colab": {
      "provenance": []
    },
    "kernelspec": {
      "display_name": "Python 3 (ipykernel)",
      "language": "python",
      "name": "python3"
    },
    "language_info": {
      "codemirror_mode": {
        "name": "ipython",
        "version": 3
      },
      "file_extension": ".py",
      "mimetype": "text/x-python",
      "name": "python",
      "nbconvert_exporter": "python",
      "pygments_lexer": "ipython3",
      "version": "3.9.13"
    },
    "nav_menu": {},
    "toc": {
      "navigate_menu": true,
      "number_sections": true,
      "sideBar": true,
      "threshold": 6,
      "toc_cell": false,
      "toc_section_display": "block",
      "toc_window_display": true
    },
    "toc_position": {
      "height": "616px",
      "left": "0px",
      "right": "20px",
      "top": "106px",
      "width": "213px"
    }
  },
  "nbformat": 4,
  "nbformat_minor": 0
}
