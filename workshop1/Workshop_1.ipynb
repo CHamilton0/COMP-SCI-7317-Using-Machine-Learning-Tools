{
  "nbformat": 4,
  "nbformat_minor": 0,
  "metadata": {
    "colab": {
      "provenance": []
    },
    "kernelspec": {
      "name": "python3",
      "display_name": "Python 3"
    },
    "language_info": {
      "name": "python"
    }
  },
  "cells": [
    {
      "cell_type": "markdown",
      "source": [
        "# **Using Machine Learning Tools: Workshop 0**\n",
        "\n",
        "This document will guide you through setting up Anaconda, Python, Jupyter Notebook, TensorFlow, and Keras on your machine.For more information, refer to the textbook:\n",
        "_Hands-on Machine Learning with Scikit-Learn, Keras and TensorFlow, 2e_ by Aurelien Geron. All code for the book is available at https://github.com/ageron/handson-ml2"
      ],
      "metadata": {
        "id": "vFISTCFBnNhT"
      }
    },
    {
      "cell_type": "markdown",
      "source": [
        "# Installing without using terminal or command prompt\n",
        "\n",
        "**1. Using Anaconda Navigator**\n",
        "\n",
        "Anaconda Navigator is a desktop graphical user interface (GUI) included in Anaconda distributions that allows you to launch applications and easily manage conda packages, environments, and channels without using command-line commands.\n",
        "\n",
        "Download and Install Anaconda: https://www.anaconda.com/download\n",
        "\n",
        "Follow the installation wizard and you can safely accept default options which include installing Anaconda Navigator.\n",
        "\n",
        "**2. Using Anaconda Navigator:**\n",
        "\n",
        "Launch Anaconda Navigator: After installation, open Anaconda Navigator from the Start Menu (Windows) or Applications folder (macOS).\n",
        "\n",
        "**3. Create a New Environment:**\n",
        "Go to the “Environments” tab on the left.\n",
        "Click on “Create” and enter a name for the new environment, e.g., umlt.\n",
        "Choose Python and specify the version (e.g., Python 3.8). Although Python 2.x may work, it is deprecated so we strongly recommend you use Python 3 instead.\n",
        "Click “Create”.\n",
        "\n",
        "**4. Install Packages:**\n",
        "With the environment selected, go to the “Home” tab.\n",
        "Open the dropdown that says “Applications on” and choose the newly created environment.\n",
        "Install Jupyter Notebook, TensorFlow and Keras by clicking the install button next to each package in the GUI.\n",
        "\n",
        "**5. Launching Jupyter Notebook:**\n",
        "\n",
        "Still in Anaconda Navigator, with the environment activated, navigate to the “Home” tab.\n",
        "Launch Jupyter Notebook directly from the Navigator.\n",
        "\n",
        "**6. Test your setup:**\n",
        "\n",
        "*6.1 Test TensorFlow:*\n",
        "\n",
        "Enter the following code to test TensorFlow and check that it runs and produces no errors:"
      ],
      "metadata": {
        "id": "0tlkqd3ssmag"
      }
    },
    {
      "cell_type": "code",
      "source": [
        "import tensorflow as tf\n",
        "print(\"TensorFlow version:\", tf.__version__)\n",
        "hello = tf.constant('Hello, TensorFlow!')\n",
        "tf.print(hello)"
      ],
      "metadata": {
        "id": "ki3DzGzTgOI5"
      },
      "execution_count": null,
      "outputs": []
    },
    {
      "cell_type": "markdown",
      "source": [
        "*6.2 Check other important libraries:*\n",
        "\n",
        "In your new Jupyter notebook, copy the below code and test that there are no import errors and can run. This will check that sklearn, numpy and matplotlib works."
      ],
      "metadata": {
        "id": "llIQDC90gmGw"
      }
    },
    {
      "cell_type": "code",
      "source": [
        "# Check scikit-learn installation\n",
        "import sklearn\n",
        "print(\"scikit-learn version:\", sklearn.__version__)\n",
        "\n",
        "# Import matplotlib and set plotting parameters\n",
        "import matplotlib.pyplot as plt\n",
        "import matplotlib as mpl\n",
        "mpl.rc('axes', labelsize=14)\n",
        "mpl.rc('xtick', labelsize=12)\n",
        "mpl.rc('ytick', labelsize=12)\n",
        "\n",
        "# Import numpy and pandas\n",
        "import numpy as np\n",
        "import pandas as pd\n",
        "\n",
        "# Example to test functionality\n",
        "# Create a small dataset:\n",
        "data = {'a': np.arange(50),\n",
        "        'c': np.random.randint(0, 50, 50),\n",
        "        'd': np.random.randn(50)}\n",
        "data['b'] = data['a'] + 10 * np.random.randn(50)\n",
        "data['d'] = np.abs(data['d']) * 100\n",
        "\n",
        "# Create a scatter plot\n",
        "plt.figure(figsize=(10, 7))\n",
        "plt.scatter('a', 'b', c='c', s='d', data=data)\n",
        "plt.xlabel('Entry a')\n",
        "plt.ylabel('Entry b')\n",
        "plt.show()\n",
        "\n",
        "# Simple linear model with scikit-learn\n",
        "from sklearn.linear_model import LinearRegression\n",
        "model = LinearRegression()\n",
        "x = np.array(data['a']).reshape(-1, 1)\n",
        "y = np.array(data['b'])\n",
        "model.fit(x, y)\n",
        "print(\"Coefficient:\", model.coef_[0])\n",
        "print(\"Intercept:\", model.intercept_)\n"
      ],
      "metadata": {
        "id": "-Ky92jG2gv1c"
      },
      "execution_count": null,
      "outputs": []
    },
    {
      "cell_type": "markdown",
      "source": [
        "#*Alternative: Using an IDE of your choice.*\n",
        "\n",
        "If you prefer to not use Jupyter notebooks and want to run workshops and assignments with an IDE of your choosing, please feel free to set this up and ensure you have access to Keras, TensorFlow, sklearn, and numpy.\n",
        "\n",
        "You can use the code provided in 6.1 and 6.2 to check your installation and setup.\n"
      ],
      "metadata": {
        "id": "gRb1Lhk0QGBy"
      }
    },
    {
      "cell_type": "markdown",
      "source": [
        "# Installing with terminal or command prompt\n",
        "\n",
        "**Step 1: Installing Anaconda**\n",
        "\n",
        "Anaconda is a free and open-source distribution of Python and R programming languages for scientific computing. It aims to simplify package management and deployment.\n",
        "\n",
        "Download Anaconda: https://www.anaconda.com/download\n",
        "\n",
        "Go to the Anaconda Distribution page and download the Anaconda installer for your operating system (Windows, MacOS, or Linux).\n",
        "Install Anaconda:\n",
        "\n",
        "Open the downloaded file and follow the instructions. It is recommended to choose the default settings, which will install Anaconda into your home directory and append it to the path.\n",
        "Make sure to select the option to \"Add Anaconda to my PATH\" if you're comfortable with Anaconda managing your Python versions.\n",
        "Verify Installation:\n",
        "\n",
        "Open your terminal (Command Prompt on Windows) and type:"
      ],
      "metadata": {
        "id": "gwfKmBgXobrS"
      }
    },
    {
      "cell_type": "code",
      "execution_count": null,
      "metadata": {
        "id": "sdoHU8JzmSo5"
      },
      "outputs": [],
      "source": [
        "conda list"
      ]
    },
    {
      "cell_type": "markdown",
      "source": [
        "This command should list all the packages installed via Anaconda, indicating a successful installation."
      ],
      "metadata": {
        "id": "3qMqdpy1pPCu"
      }
    },
    {
      "cell_type": "markdown",
      "source": [
        "**Step 2: Setting up a Conda Environment**\n",
        "\n",
        "*2.1 Creating a separate environment for your projects is a good practice to manage dependencies.*\n",
        "\n",
        "To create a New Environment:"
      ],
      "metadata": {
        "id": "d2JgQiNepYMj"
      }
    },
    {
      "cell_type": "code",
      "source": [
        "conda create --name umlt python=3.8"
      ],
      "metadata": {
        "id": "d1m2xjwDpfSe"
      },
      "execution_count": null,
      "outputs": []
    },
    {
      "cell_type": "markdown",
      "source": [
        "This command creates a new environment called umlt with Python 3.8 installed. You can change 'umlt' to be whatever environment name you like."
      ],
      "metadata": {
        "id": "yNKQZ2HNpk6q"
      }
    },
    {
      "cell_type": "markdown",
      "source": [
        "*2.2 Activate your new environment by running:*"
      ],
      "metadata": {
        "id": "JTiyGPZlp8CF"
      }
    },
    {
      "cell_type": "code",
      "source": [
        "conda activate umlt"
      ],
      "metadata": {
        "id": "OlYdcnJBp1p5"
      },
      "execution_count": null,
      "outputs": []
    },
    {
      "cell_type": "markdown",
      "source": [
        "*2.3 While your conda environment is activated, check Python has been properly installed*\n"
      ],
      "metadata": {
        "id": "3pl7fOGmqOhL"
      }
    },
    {
      "cell_type": "code",
      "source": [
        " import sys\n",
        "  print(sys.version)"
      ],
      "metadata": {
        "id": "TtTdKBT-dK9p"
      },
      "execution_count": null,
      "outputs": []
    },
    {
      "cell_type": "markdown",
      "source": [
        "This should show the version of python and information about how it was packaged.\n",
        "\n",
        "If this is not what you expect then you might not be in the right environment or something might have gone wrong with your installation."
      ],
      "metadata": {
        "id": "aLGXyQ0OdO3D"
      }
    },
    {
      "cell_type": "markdown",
      "source": [
        " *2.4 install Jupyter Notebook:*\n",
        "\n",
        " If Python is correctly installed, type the following while still in your conda environment to install Jupyter Notebook."
      ],
      "metadata": {
        "id": "ESC_AgWEdece"
      }
    },
    {
      "cell_type": "code",
      "source": [
        "conda install jupyter"
      ],
      "metadata": {
        "id": "-8Pt8YCBqaTn"
      },
      "execution_count": null,
      "outputs": []
    },
    {
      "cell_type": "markdown",
      "source": [
        "*2.5 Launch Jupyter Notebook:*"
      ],
      "metadata": {
        "id": "Rjtgyq4wqrLy"
      }
    },
    {
      "cell_type": "code",
      "source": [
        "jupyter notebook"
      ],
      "metadata": {
        "id": "H4GMM26Wqv3C"
      },
      "execution_count": null,
      "outputs": []
    },
    {
      "cell_type": "markdown",
      "source": [
        "This command should open a new tab in your web browser with the Jupyter interface."
      ],
      "metadata": {
        "id": "91pvyvztqyK7"
      }
    },
    {
      "cell_type": "markdown",
      "source": [
        "**Step 3: Installing TensorFlow and Keras**\n",
        "\n",
        "Now that you have your environment set up, install TensorFlow and Keras. With the umlt environment activated, install TensorFlow by running:"
      ],
      "metadata": {
        "id": "Ryeph3chq1FG"
      }
    },
    {
      "cell_type": "code",
      "source": [
        "pip install tensorflow"
      ],
      "metadata": {
        "id": "H9IjidqPq0mE"
      },
      "execution_count": null,
      "outputs": []
    },
    {
      "cell_type": "markdown",
      "source": [
        "TensorFlow 2.x comes with Keras included, so there's no need to install Keras separately. However, if needed, you can explicitly install it:"
      ],
      "metadata": {
        "id": "lus4Yvx8rIgl"
      }
    },
    {
      "cell_type": "code",
      "source": [
        "pip install keras"
      ],
      "metadata": {
        "id": "mrYVfKL_rU7h"
      },
      "execution_count": null,
      "outputs": []
    },
    {
      "cell_type": "markdown",
      "source": [
        "**Step 4: Test your setup**\n",
        "\n",
        "*4.1 Run a Test Script:*\n",
        "In your Jupyter Notebook, create a new notebook in the umlt environment.\n",
        "\n",
        "Enter the following code to test TensorFlow:"
      ],
      "metadata": {
        "id": "t9D2kgVSrYq9"
      }
    },
    {
      "cell_type": "code",
      "source": [
        "import tensorflow as tf\n",
        "print(\"TensorFlow version:\", tf.__version__)\n",
        "hello = tf.constant('Hello, TensorFlow!')\n",
        "tf.print(hello)"
      ],
      "metadata": {
        "id": "mQgN2Z2erYFo"
      },
      "execution_count": null,
      "outputs": []
    },
    {
      "cell_type": "markdown",
      "source": [
        "*4.2 Check other essential libraries*\n",
        "\n",
        "In your new Jupyter notebook, copy the below code and test that there are no import errors and can run. This will check that sklearn, numpy and matplotlib works."
      ],
      "metadata": {
        "id": "f2FB9cJydw_l"
      }
    },
    {
      "cell_type": "code",
      "source": [
        "# Check scikit-learn installation\n",
        "import sklearn\n",
        "print(\"scikit-learn version:\", sklearn.__version__)\n",
        "\n",
        "# Import matplotlib and set plotting parameters\n",
        "import matplotlib.pyplot as plt\n",
        "import matplotlib as mpl\n",
        "mpl.rc('axes', labelsize=14)\n",
        "mpl.rc('xtick', labelsize=12)\n",
        "mpl.rc('ytick', labelsize=12)\n",
        "\n",
        "# Import numpy and pandas\n",
        "import numpy as np\n",
        "import pandas as pd\n",
        "\n",
        "# Example to test functionality\n",
        "# Create a small dataset:\n",
        "data = {'a': np.arange(50),\n",
        "        'c': np.random.randint(0, 50, 50),\n",
        "        'd': np.random.randn(50)}\n",
        "data['b'] = data['a'] + 10 * np.random.randn(50)\n",
        "data['d'] = np.abs(data['d']) * 100\n",
        "\n",
        "# Create a scatter plot\n",
        "plt.figure(figsize=(10, 7))\n",
        "plt.scatter('a', 'b', c='c', s='d', data=data)\n",
        "plt.xlabel('Entry a')\n",
        "plt.ylabel('Entry b')\n",
        "plt.show()\n",
        "\n",
        "# Simple linear model with scikit-learn\n",
        "from sklearn.linear_model import LinearRegression\n",
        "model = LinearRegression()\n",
        "x = np.array(data['a']).reshape(-1, 1)\n",
        "y = np.array(data['b'])\n",
        "model.fit(x, y)\n",
        "print(\"Coefficient:\", model.coef_[0])\n",
        "print(\"Intercept:\", model.intercept_)"
      ],
      "metadata": {
        "id": "dFfBd3Nvdwoa"
      },
      "execution_count": 2,
      "outputs": []
    }
  ]
}