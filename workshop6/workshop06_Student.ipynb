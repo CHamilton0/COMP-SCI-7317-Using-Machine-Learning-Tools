{
 "cells": [
  {
   "attachments": {},
   "cell_type": "markdown",
   "metadata": {},
   "source": [
    "# Workshop 6\n",
    "\n",
    "Starter code for workshop 6. You should have seen most of it before, but make sure you understand what it is doing!"
   ]
  },
  {
   "cell_type": "code",
   "execution_count": null,
   "metadata": {},
   "outputs": [],
   "source": [
    "# Common imports\n",
    "import numpy as np\n",
    "import os\n",
    "\n",
    "# To plot pretty figures\n",
    "%matplotlib inline\n",
    "import matplotlib as mpl\n",
    "import matplotlib.pyplot as plt\n",
    "mpl.rc('axes', labelsize=14)\n",
    "mpl.rc('xtick', labelsize=12)\n",
    "mpl.rc('ytick', labelsize=12)\n",
    "\n",
    "# To plot even prettier figures\n",
    "import seaborn as sn\n",
    "\n",
    "# General data handling (pure numerics are better in numpy)\n",
    "import pandas as pd"
   ]
  },
  {
   "cell_type": "code",
   "execution_count": null,
   "metadata": {},
   "outputs": [],
   "source": [
    "from sklearn.datasets import load_breast_cancer\n",
    "data = load_breast_cancer()"
   ]
  },
  {
   "cell_type": "code",
   "execution_count": null,
   "metadata": {},
   "outputs": [],
   "source": [
    "# Extract the feature and target\n",
    "xarray = data.data\n",
    "yarray = data.target\n",
    "print(xarray.shape)\n",
    "print(yarray.shape)\n",
    "fullarray = np.concatenate((xarray,np.reshape(yarray,(-1,1))),axis=1)\n",
    "print(fullarray.shape)"
   ]
  },
  {
   "attachments": {},
   "cell_type": "markdown",
   "metadata": {},
   "source": [
    "### Viewing the data\n",
    "One thing we haven't done with this dataset is actually look at some of the data"
   ]
  },
  {
   "cell_type": "code",
   "execution_count": null,
   "metadata": {},
   "outputs": [],
   "source": [
    "## Let's be a bit more imaginative\n",
    "\n",
    " # Define a proper size of the plot\n",
    "plt.figure(figsize=(10,6))\n",
    "\n",
    "# Check the relation between each variable and the target\n",
    "for i in range(1, 9):\n",
    "    plt.subplot(2, 4, i)\n",
    "    plt.plot(fullarray[:, i], fullarray[:,-1], 'k.')\n",
    "    plt.title(data.feature_names[i])"
   ]
  },
  {
   "cell_type": "code",
   "execution_count": null,
   "metadata": {},
   "outputs": [],
   "source": [
    "# Remember to define properly the positive and negative class\n",
    "fullarray[:,-1] = 1 - fullarray[:,-1]   # now invert the labels (so that malignant=1)\n",
    "df = pd.DataFrame(fullarray,columns = list(data.feature_names) + ['target'])"
   ]
  },
  {
   "cell_type": "code",
   "execution_count": null,
   "metadata": {},
   "outputs": [],
   "source": [
    "# Check the dataframe\n",
    "df"
   ]
  },
  {
   "attachments": {},
   "cell_type": "markdown",
   "metadata": {},
   "source": [
    "# Splitting into separate datasets\n"
   ]
  },
  {
   "cell_type": "code",
   "execution_count": null,
   "metadata": {},
   "outputs": [],
   "source": [
    "from sklearn.model_selection import train_test_split\n",
    "\n",
    "# Split in train, validation and test. Check the parameter \"stratify\"\n",
    "bigtrain_set, test_set = train_test_split(fullarray, test_size=0.15, random_state=42, stratify=fullarray[:,-1])\n",
    "train_set, val_set = train_test_split(bigtrain_set, test_size=0.1765, random_state=42, stratify=bigtrain_set[:,-1])"
   ]
  },
  {
   "attachments": {},
   "cell_type": "markdown",
   "metadata": {},
   "source": [
    "**Note the use of \"stratify\" in the calls above, as these make sure that each dataset has roughly the same proportions of the classes.**"
   ]
  },
  {
   "cell_type": "code",
   "execution_count": null,
   "metadata": {},
   "outputs": [],
   "source": [
    "#Get the X and y for train, val and test\n",
    "X_train = train_set[:,:-1]\n",
    "y_train = train_set[:,-1]\n",
    "X_test = test_set[:,:-1]\n",
    "y_test = test_set[:,-1]\n",
    "X_val = val_set[:,:-1]\n",
    "y_val = val_set[:,-1]\n",
    "print(f'Shapes are {[X_train.shape,y_train.shape,X_test.shape,y_test.shape,X_val.shape,y_val.shape]}')"
   ]
  },
  {
   "cell_type": "code",
   "execution_count": null,
   "metadata": {},
   "outputs": [],
   "source": [
    "# You can see the proportion of the classes in each partition\n",
    "print(np.mean(y_train),np.mean(y_test),np.mean(y_val))"
   ]
  },
  {
   "attachments": {},
   "cell_type": "markdown",
   "metadata": {},
   "source": [
    "These are the proportions of the classes in each dataset (as classes are given values 0 and 1, so a mean is just equal to the proportion of the class represented by 1)."
   ]
  },
  {
   "attachments": {},
   "cell_type": "markdown",
   "metadata": {},
   "source": [
    "# Pipeline"
   ]
  },
  {
   "cell_type": "code",
   "execution_count": null,
   "metadata": {},
   "outputs": [],
   "source": [
    "from sklearn.pipeline import Pipeline\n",
    "from sklearn.preprocessing import StandardScaler\n",
    "from sklearn.impute import SimpleImputer\n",
    "\n",
    "preproc_pl = Pipeline([ ('imputer', SimpleImputer(strategy=\"median\")), \n",
    "                        ('std_scaler', StandardScaler())])"
   ]
  },
  {
   "attachments": {},
   "cell_type": "markdown",
   "metadata": {},
   "source": [
    "# Tutor will demonstrate SVM Classifier by the following:\n",
    "* build a pipeline\n",
    "* AUC/feature\n",
    "* ROC Curves\n",
    "* Visualisation of decision boundary\n",
    "* Validation\n",
    "* Tuning with C Values\n",
    "* More options\n",
    "* Model Selection"
   ]
  }
 ],
 "metadata": {
  "kernelspec": {
   "display_name": "Python 3 (ipykernel)",
   "language": "python",
   "name": "python3"
  },
  "language_info": {
   "codemirror_mode": {
    "name": "ipython",
    "version": 3
   },
   "file_extension": ".py",
   "mimetype": "text/x-python",
   "name": "python",
   "nbconvert_exporter": "python",
   "pygments_lexer": "ipython3",
   "version": "3.9.13"
  }
 },
 "nbformat": 4,
 "nbformat_minor": 4
}
